{
 "cells": [
  {
   "cell_type": "code",
   "execution_count": 1,
   "metadata": {},
   "outputs": [],
   "source": [
    "import numpy as np\n",
    "import pandas as pd\n",
    "import matplotlib.pyplot as plt\n",
    "%matplotlib inline"
   ]
  },
  {
   "cell_type": "code",
   "execution_count": 54,
   "metadata": {},
   "outputs": [
    {
     "name": "stdout",
     "output_type": "stream",
     "text": [
      "This is summary of data from 1988:\n",
      " count    233.000000\n",
      "mean       8.343348\n",
      "std        0.726743\n",
      "min        7.000000\n",
      "25%        8.000000\n",
      "50%        8.000000\n",
      "75%        9.000000\n",
      "max       10.000000\n",
      "Name: month, dtype: float64\n",
      "This is summary of data from 1993:\n",
      " count    244.000000\n",
      "mean       8.311475\n",
      "std        0.907962\n",
      "min        5.000000\n",
      "25%        8.000000\n",
      "50%        8.000000\n",
      "75%        9.000000\n",
      "max       11.000000\n",
      "Name: month, dtype: float64\n"
     ]
    },
    {
     "data": {
      "text/plain": [
       "<function matplotlib.pyplot.show(*args, **kw)>"
      ]
     },
     "execution_count": 54,
     "metadata": {},
     "output_type": "execute_result"
    },
    {
     "data": {
      "image/png": "[encoded data removed]",
      "text/plain": [
       "<Figure size 1080x1080 with 2 Axes>"
      ]
     },
     "metadata": {
      "needs_background": "light"
     },
     "output_type": "display_data"
    }
   ],
   "source": [
    "#imports the fungi_data\n",
    "fungi_data = pd.read_csv(\"0045302-181108115102211.csv\",  delimiter = \"\\t\")\n",
    "\n",
    "## NOTE: Drops the columns of data that are not useful to us.\n",
    "## Phong: I added a few more columns of data that I didn't think were relevent. \n",
    "fungi_clean = fungi_data.drop(['datasetKey', 'kingdom', 'phylum', 'class', 'order', 'family', 'taxonRank', \n",
    "                               'infraspecificEpithet', 'species','rightsHolder', 'license', 'mediaType', \n",
    "                               'issue','institutionCode', 'collectionCode','catalogNumber', 'recordNumber',\n",
    "                               'identifiedBy', 'dateIdentified', 'typeStatus', 'establishmentMeans', 'lastInterpreted',\n",
    "                               'basisOfRecord',  'elevationAccuracy', 'depth', 'depthAccuracy', 'coordinatePrecision',\n",
    "                               'elevation', 'countryCode', 'locality', 'eventDate', 'taxonKey','speciesKey', 'recordedBy',\n",
    "                               'publishingOrgKey', 'gbifID', 'occurrenceID', 'day'], \n",
    "                              axis = 1)\n",
    "\n",
    "fungi_clean = fungi_clean.sort_values('year')\n",
    "\n",
    "# the years with the most data are 1988 and 1993, with 233 and 244 data points reespectively\n",
    "data1988 = fungi_clean.loc[fungi_clean['year'] == 1988, 'month']\n",
    "data1993 = fungi_clean.loc[fungi_clean['year'] == 1993, 'month']\n",
    "\n",
    "print(\"This is summary of data from 1988:\\n\", data1988.describe())\n",
    "\n",
    "print(\"This is summary of data from 1993:\\n\", data1993.describe())\n",
    "\n",
    "\n",
    "#plots these years\n",
    "fig = plt.figure(figsize=(15,15))\n",
    "ax1 = fig.add_subplot(221)\n",
    "ax2 = fig.add_subplot(222)\n",
    "\n",
    "ax1.hist(data1988,\n",
    "         bins = 12,\n",
    "        alpha = 0.5)\n",
    "\n",
    "ax1.set(title = 'Mushroom Growth Reported Over 1988', \n",
    "        xlabel = 'month', \n",
    "        ylabel = 'number of mushrooms reported',\n",
    "        xlim = [1,12],\n",
    "        ylim = [0, 140]) \n",
    "\n",
    "ax2.hist(data1993,\n",
    "         bins= 12,\n",
    "        alpha = 0.5)\n",
    "\n",
    "ax2.set(title = 'Mushroom Growth Reported Over 1993', \n",
    "        xlabel = 'month', \n",
    "        ylabel = 'number of mushrooms reported',\n",
    "        xlim=[1,12],\n",
    "        ylim = [0, 140]) \n",
    "\n",
    "\n",
    "\n",
    "plt.show"
   ]
  },
  {
   "cell_type": "code",
   "execution_count": 47,
   "metadata": {},
   "outputs": [],
   "source": [
    "years = np.arange(1950,1995)\n",
    "store = []\n",
    "for x in years:\n",
    "    temp = fungi_clean.loc[fungi_clean['year'] == x]\n",
    "    number_of_values = temp.shape[0]\n",
    "    store = np.append(store,number_of_values)\n",
    "    \n",
    "\n",
    "    "
   ]
  },
  {
   "cell_type": "code",
   "execution_count": 48,
   "metadata": {},
   "outputs": [
    {
     "name": "stdout",
     "output_type": "stream",
     "text": [
      "[  1.   0.   3.   1.   4.   0.   1.   3.   8.   0.   5.   1.   3.   2.\n",
      "   2.   6.   5.   2.   5.   0.   5.  28.   9.   1.  15.   3.   2.  26.\n",
      "  73.  76.  55.  75.  32.  33. 171. 158.  76.  99. 233.  86. 141. 152.\n",
      " 125. 244.  45.]\n",
      "[1950 1951 1952 1953 1954 1955 1956 1957 1958 1959 1960 1961 1962 1963\n",
      " 1964 1965 1966 1967 1968 1969 1970 1971 1972 1973 1974 1975 1976 1977\n",
      " 1978 1979 1980 1981 1982 1983 1984 1985 1986 1987 1988 1989 1990 1991\n",
      " 1992 1993 1994]\n"
     ]
    }
   ],
   "source": [
    "print(store)\n",
    "print(years)\n"
   ]
  },
  {
   "cell_type": "code",
   "execution_count": null,
   "metadata": {},
   "outputs": [],
   "source": []
  }
 ],
 "metadata": {
  "kernelspec": {
   "display_name": "Python 3",
   "language": "python",
   "name": "python3"
  },
  "language_info": {
   "codemirror_mode": {
    "name": "ipython",
    "version": 3
   },
   "file_extension": ".py",
   "mimetype": "text/x-python",
   "name": "python",
   "nbconvert_exporter": "python",
   "pygments_lexer": "ipython3",
   "version": "3.7.1"
  }
 },
 "nbformat": 4,
 "nbformat_minor": 2
}
